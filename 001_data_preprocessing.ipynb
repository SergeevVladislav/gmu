{
 "cells": [
  {
   "cell_type": "code",
   "execution_count": 1,
   "id": "colonial-handy",
   "metadata": {},
   "outputs": [],
   "source": [
    "import pandas as pd\n",
    "import numpy as np\n",
    "import warnings\n",
    "import matplotlib.pyplot as plt\n",
    "\n",
    "\n",
    "%matplotlib inline\n",
    "\n",
    "warnings.filterwarnings('ignore')\n",
    "pd.set_option('max_columns', 200)"
   ]
  },
  {
   "cell_type": "markdown",
   "id": "public-repair",
   "metadata": {},
   "source": [
    "# Inflation rate"
   ]
  },
  {
   "cell_type": "code",
   "execution_count": 2,
   "id": "small-bishop",
   "metadata": {},
   "outputs": [],
   "source": [
    "inflation_rate = pd.read_excel('inflation_rate_1.xlsx')\n",
    "\n",
    "inflation_rate.columns = ['date', 'rate', 'inflation', 'target']\n",
    "inflation_rate.loc[:, \"date\"] = inflation_rate.date.astype(str)\n",
    "inflation_rate.loc[:, \"date\"] = inflation_rate.date.str.replace('202', '2020').str.replace('20201', '2021').str.replace('20202', '2022')\n",
    "inflation_rate.loc[:, \"date\"] = '01-' + inflation_rate.date.str.replace('.', '-')\n",
    "\n",
    "inflation_rate.loc[:, \"date\"] = pd.to_datetime(inflation_rate.date, format=\"%d-%m-%Y\")\n",
    "inflation_rate.loc[:, \"date\"] = inflation_rate.date.dt.to_period('Q')\n",
    "\n",
    "inflation_rate = inflation_rate.drop_duplicates(subset=['date', 'rate']).drop_duplicates(subset='date').drop('target', 1)"
   ]
  },
  {
   "cell_type": "markdown",
   "id": "vocational-insured",
   "metadata": {},
   "source": [
    "# Urals Oil Price"
   ]
  },
  {
   "cell_type": "code",
   "execution_count": 3,
   "id": "characteristic-swiss",
   "metadata": {},
   "outputs": [],
   "source": [
    "urals = pd.read_csv('urals.csv')\n",
    "\n",
    "urals.columns = ['date', 'price', 'open', 'maxi', 'mini', 'volume', 'diff']\n",
    "urals.date = pd.date_range(start='2011-01-01', end='2022-05-01', freq='m')[::-1]\n",
    "urals = urals[['date', 'price']]\n",
    "urals.loc[:, \"date\"] = urals.date.dt.to_period('Q')\n",
    "urals = urals.drop_duplicates(subset='date')\n",
    "\n",
    "df = pd.merge(urals, inflation_rate, on='date', how='inner')"
   ]
  },
  {
   "cell_type": "markdown",
   "id": "framed-owner",
   "metadata": {},
   "source": [
    "# Budget"
   ]
  },
  {
   "cell_type": "code",
   "execution_count": 4,
   "id": "graphic-jones",
   "metadata": {},
   "outputs": [],
   "source": [
    "budget = pd.read_csv('budget.csv')\n",
    "budget = budget.astype(str)\n",
    "budget.columns = ['field'] + pd.date_range(\"01/01/2011\", \"31/12/2021\", freq='Q').tolist()\n",
    "\n",
    "budget = budget.T\n",
    "budget.columns = budget.loc['field', :]\n",
    "budget = budget.iloc[1:]\n",
    "\n",
    "budget.index = pd.to_datetime(budget.index)\n",
    "budget.index = budget.index.to_period('Q')\n",
    "budget.columns = budget.columns.values\n",
    "budget['date'] = budget.index.values"
   ]
  },
  {
   "cell_type": "markdown",
   "id": "vanilla-tolerance",
   "metadata": {},
   "source": [
    "# Preprocessing"
   ]
  },
  {
   "cell_type": "code",
   "execution_count": 5,
   "id": "drawn-muslim",
   "metadata": {},
   "outputs": [
    {
     "name": "stdout",
     "output_type": "stream",
     "text": [
      "Can only use .str accessor with string values!\n",
      "Can only use .str accessor with string values!\n",
      "Can only use .str accessor with string values!\n",
      "Can only use .str accessor with string values!\n"
     ]
    }
   ],
   "source": [
    "df = pd.merge(df, budget, on='date', how='inner')\n",
    "\n",
    "df.price = df.price.str.replace(',', '.')\n",
    "df.price = df.price.astype(float)\n",
    "\n",
    "df = df.rename(columns={\n",
    "    'Доходы, всего': 'total_income',\n",
    "    'Нефтегазовые доходы': 'oil_income',\n",
    "    'Ненефтегазовые доходы': 'non_oil_income',\n",
    "    'Расходы, всего': 'total_spending',\n",
    "    'Общегосударственные вопросы': \"state_questions\",\n",
    "    'Национальная оборона': \"nat_defence\",\n",
    "    'Национальная безопасность и правоохранительная деятельность': \"nat_security\",\n",
    "    'Национальная экономика': \"nat_economy\",\n",
    "    'Жилищно-коммунальное хозяйство': \"house_service\",\n",
    "    'Охрана окружающей среды': \"environment\",\n",
    "    'Образование': \"education\",\n",
    "    'Культура, кинематография': \"culture\",\n",
    "    'Здравоохранение': \"health\",\n",
    "    'Социальная политика': \"social_policy\",\n",
    "    'Физическая культура и спорт': \"sport\",\n",
    "    'Средства массовой информации': \"media\",\n",
    "    'Обслуживание государственного и муниципального долга': \"public_debt\",\n",
    "    'Межбюджетные трансферты общего характера бюджетам бюджетной системы Российской Федерации': \"transfrets\"\n",
    "})\n",
    "\n",
    "for col in df.columns:\n",
    "    try:\n",
    "        df.loc[:, col] = df[col].str.replace(' ', '').str.replace(',', '')\n",
    "        df.loc[:, col] = df[col].astype(float)\n",
    "    except Exception as er:\n",
    "        print(er)"
   ]
  },
  {
   "cell_type": "markdown",
   "id": "pacific-liquid",
   "metadata": {},
   "source": [
    "# Gross Domestic Product"
   ]
  },
  {
   "cell_type": "code",
   "execution_count": 6,
   "id": "satellite-vatican",
   "metadata": {},
   "outputs": [],
   "source": [
    "# в ценах 2016 года\n",
    "real_gdp = pd.read_csv('gdp_real.csv')\n",
    "real_gdp = real_gdp.T\n",
    "real_gdp['date'] = pd.date_range(\"01/01/2011\", \"31/12/2021\", freq='Q').tolist()\n",
    "real_gdp.reset_index(inplace=True)\n",
    "real_gdp.columns = ['gdp_real', 'date']\n",
    "real_gdp['gdp_real'] = real_gdp['gdp_real'].str.replace(',', '').astype(float)\n",
    "real_gdp['date'] = real_gdp.date.dt.to_period('Q')\n",
    "\n",
    "df = pd.merge(df, real_gdp, on='date', how='inner')\n",
    "\n",
    "df = df.sort_values(by='date', ascending=True)\n",
    "df.index = np.arange(len(df))\n",
    "df['gdp_dynamic'] = df['gdp_real'].diff().fillna(0) / df['gdp_real']"
   ]
  },
  {
   "cell_type": "markdown",
   "id": "assigned-singing",
   "metadata": {},
   "source": [
    "# Deflator"
   ]
  },
  {
   "cell_type": "code",
   "execution_count": 7,
   "id": "informative-brazil",
   "metadata": {},
   "outputs": [],
   "source": [
    "deflator = pd.read_csv('deflator.csv')\n",
    "deflator = deflator.T\n",
    "deflator.reset_index(inplace=True)\n",
    "\n",
    "deflator.columns = ['date', 'deflator']\n",
    "deflator.date = pd.to_datetime(deflator.date, format='%d.%m.%Y')\n",
    "deflator.date = deflator.date.dt.to_period('Q')\n",
    "df = pd.merge(df, deflator, on='date', how='inner')"
   ]
  },
  {
   "cell_type": "markdown",
   "id": "motivated-punishment",
   "metadata": {},
   "source": [
    "# Original budget values from cumsum"
   ]
  },
  {
   "cell_type": "code",
   "execution_count": 8,
   "id": "colored-lotus",
   "metadata": {},
   "outputs": [],
   "source": [
    "for i in range(2, len(df), 4):\n",
    "    for col in df.drop(['date', 'price', 'rate', 'inflation', 'gdp_real', 'gdp_dynamic', 'deflator'], 1).columns:\n",
    "        df.loc[i: i+3, col] = df.loc[i: i+3, col].diff().fillna(df.loc[i: i+3, col])\n",
    "\n",
    "for col in df.drop(['date', 'price', 'rate', 'inflation', 'gdp_real', 'gdp_dynamic', 'deflator'], 1).columns:\n",
    "    df.loc[1, col] = df.loc[1, col] - df.loc[0, col]\n",
    "    \n",
    "    \n",
    "for col in df.drop(['date', 'price', 'rate', 'inflation', 'gdp_real', 'gdp_dynamic', 'deflator'], 1).columns:\n",
    "    df.loc[:, col] = df.loc[:, col] * (df['deflator'] / 100)"
   ]
  },
  {
   "cell_type": "markdown",
   "id": "scientific-winter",
   "metadata": {},
   "source": [
    "# Final dataset"
   ]
  },
  {
   "cell_type": "code",
   "execution_count": 9,
   "id": "fresh-steps",
   "metadata": {},
   "outputs": [],
   "source": [
    "df_final = df[[\n",
    "    'date', 'price', 'rate', 'inflation',\n",
    "    'oil_income', 'total_income',\n",
    "    'nat_defence', 'nat_security', 'house_service', 'education', 'health',\n",
    "    'gdp_dynamic', 'gdp_real'\n",
    "]]\n",
    "df_final.index = df.date"
   ]
  },
  {
   "cell_type": "code",
   "execution_count": 10,
   "id": "welcome-gathering",
   "metadata": {},
   "outputs": [
    {
     "data": {
      "image/png": "[encoded data removed]",
      "text/plain": [
       "<Figure size 720x360 with 1 Axes>"
      ]
     },
     "metadata": {
      "needs_background": "light"
     },
     "output_type": "display_data"
    }
   ],
   "source": [
    "plt.figure(figsize=(10, 5))\n",
    "(100 * df_final['nat_defence'] / df_final['gdp_real']).plot(legend='best')\n",
    "(100 * df_final['nat_security'] / df_final['gdp_real']).plot()\n",
    "(100 * df_final['house_service'] / df_final['gdp_real']).plot()\n",
    "(100 * df_final['education'] / df_final['gdp_real']).plot()\n",
    "(100 * df_final['health'] / df_final['gdp_real']).plot()\n",
    "plt.legend([\"Национальная оборона\", \"Национальная безопасность\", \"ЖКХ\", \"Образование\", \"Здравоохранение\"])\n",
    "plt.savefig('spends.png')\n",
    "plt.show()"
   ]
  },
  {
   "cell_type": "code",
   "execution_count": 11,
   "id": "minor-conjunction",
   "metadata": {},
   "outputs": [],
   "source": [
    "df.to_csv('data_gmu.csv')"
   ]
  },
  {
   "cell_type": "code",
   "execution_count": 12,
   "id": "dynamic-formation",
   "metadata": {},
   "outputs": [],
   "source": [
    "from statsmodels.tsa.api import VAR, SVAR\n",
    "import warnings\n",
    "warnings.filterwarnings('ignore')\n",
    "import matplotlib.pyplot as plt"
   ]
  },
  {
   "cell_type": "code",
   "execution_count": 13,
   "id": "ceramic-symphony",
   "metadata": {},
   "outputs": [],
   "source": [
    "df_final['taxes_income'] = df_final['total_income'] - df_final['oil_income']\n",
    "\n",
    "endog = ['gdp_real', 'nat_defence', 'nat_security', 'house_service', 'education', 'health', 'taxes_income']\n",
    "endog_log = ['gdp_real', 'nat_defence', 'nat_security', 'house_service', 'education', 'health', 'taxes_income']\n",
    "exog = ['price', 'rate', 'oil_income']\n",
    "exog_log = ['price', 'oil_income']"
   ]
  },
  {
   "cell_type": "code",
   "execution_count": 14,
   "id": "intense-showcase",
   "metadata": {},
   "outputs": [],
   "source": [
    "df_final[endog_log + exog_log] = np.log(df_final[endog_log + exog_log])"
   ]
  },
  {
   "cell_type": "code",
   "execution_count": 15,
   "id": "compliant-rouge",
   "metadata": {},
   "outputs": [],
   "source": [
    "df_final.to_csv('data_gmu.csv')"
   ]
  },
  {
   "cell_type": "code",
   "execution_count": 17,
   "id": "applied-forwarding",
   "metadata": {},
   "outputs": [
    {
     "data": {
      "image/png": "[encoded data removed]",
      "text/plain": [
       "<Figure size 432x288 with 2 Axes>"
      ]
     },
     "metadata": {
      "needs_background": "light"
     },
     "output_type": "display_data"
    },
    {
     "data": {
      "text/plain": [
       "<Figure size 720x720 with 0 Axes>"
      ]
     },
     "metadata": {},
     "output_type": "display_data"
    }
   ],
   "source": [
    "bic = []\n",
    "aic = []\n",
    "lags = list(range(1, 3))\n",
    "for lag in lags:\n",
    "    model = VAR(endog=df_final[endog], exog=df_final[exog]).fit(lag)\n",
    "    bic.append(model.bic)\n",
    "    aic.append(model.aic)\n",
    "    \n",
    "fig, ax = plt.subplots(nrows=2, ncols=1);\n",
    "plt.figure(figsize=(10, 10));\n",
    "ax[0].set_title('BIC', fontsize=15)\n",
    "ax[0].plot(lags, bic);\n",
    "ax[1].set_title('AIC', fontsize=15)\n",
    "ax[1].plot(lags, aic);"
   ]
  },
  {
   "cell_type": "code",
   "execution_count": 18,
   "id": "continental-solomon",
   "metadata": {},
   "outputs": [
    {
     "name": "stdout",
     "output_type": "stream",
     "text": [
      "[-24.396376747043753, -26.518041435441333]\n"
     ]
    }
   ],
   "source": [
    "print(aic)"
   ]
  },
  {
   "cell_type": "code",
   "execution_count": 19,
   "id": "aging-leeds",
   "metadata": {},
   "outputs": [
    {
     "data": {
      "text/plain": [
       "{'aic': 2, 'bic': 1, 'hqic': 2, 'fpe': 2}"
      ]
     },
     "execution_count": 19,
     "metadata": {},
     "output_type": "execute_result"
    }
   ],
   "source": [
    "model = VAR(endog=df_final[endog], exog=df_final[exog])\n",
    "a = model.select_order(2)\n",
    "a.selected_orders"
   ]
  },
  {
   "cell_type": "code",
   "execution_count": 20,
   "id": "decimal-converter",
   "metadata": {},
   "outputs": [
    {
     "name": "stdout",
     "output_type": "stream",
     "text": [
      "  Summary of Regression Results   \n",
      "==================================\n",
      "Model:                         VAR\n",
      "Method:                        OLS\n",
      "Date:           Tue, 19, Apr, 2022\n",
      "Time:                     20:59:34\n",
      "--------------------------------------------------------------------\n",
      "No. of Equations:         7.00000    BIC:                   -20.7467\n",
      "Nobs:                     32.0000    HQIC:                  -24.6050\n",
      "Log likelihood:           232.446    FPE:                8.57404e-12\n",
      "AIC:                     -26.5180    Det(Omega_mle):     3.77090e-13\n",
      "--------------------------------------------------------------------\n",
      "Results for equation gdp_real\n",
      "===================================================================================\n",
      "                      coefficient       std. error           t-stat            prob\n",
      "-----------------------------------------------------------------------------------\n",
      "const                   16.369164         2.805876            5.834           0.000\n",
      "price                   -0.022468         0.030790           -0.730           0.466\n",
      "rate                    -0.000545         0.003894           -0.140           0.889\n",
      "oil_income               0.073238         0.032784            2.234           0.025\n",
      "L1.gdp_real             -0.046768         0.246939           -0.189           0.850\n",
      "L1.nat_defence          -0.064509         0.037448           -1.723           0.085\n",
      "L1.nat_security         -0.206360         0.079011           -2.612           0.009\n",
      "L1.house_service         0.005717         0.015699            0.364           0.716\n",
      "L1.education             0.026551         0.049313            0.538           0.590\n",
      "L1.health               -0.023771         0.040605           -0.585           0.558\n",
      "L1.taxes_income          0.194393         0.068755            2.827           0.005\n",
      "L2.gdp_real             -0.623824         0.198445           -3.144           0.002\n",
      "L2.nat_defence          -0.082680         0.048830           -1.693           0.090\n",
      "L2.nat_security          0.095211         0.120284            0.792           0.429\n",
      "L2.house_service        -0.001861         0.014356           -0.130           0.897\n",
      "L2.education             0.049042         0.050683            0.968           0.333\n",
      "L2.health               -0.007886         0.028381           -0.278           0.781\n",
      "L2.taxes_income         -0.028217         0.066615           -0.424           0.672\n",
      "===================================================================================\n",
      "\n",
      "Results for equation nat_defence\n",
      "===================================================================================\n",
      "                      coefficient       std. error           t-stat            prob\n",
      "-----------------------------------------------------------------------------------\n",
      "const                  -61.525169        22.989414           -2.676           0.007\n",
      "price                    0.379898         0.252275            1.506           0.132\n",
      "rate                     0.045506         0.031901            1.426           0.154\n",
      "oil_income              -0.078364         0.268608           -0.292           0.770\n",
      "L1.gdp_real              4.169796         2.023252            2.061           0.039\n",
      "L1.nat_defence           0.184319         0.306824            0.601           0.548\n",
      "L1.nat_security          0.086116         0.647359            0.133           0.894\n",
      "L1.house_service         0.043506         0.128629            0.338           0.735\n",
      "L1.education            -0.837528         0.404033           -2.073           0.038\n",
      "L1.health                0.222312         0.332686            0.668           0.504\n",
      "L1.taxes_income         -0.579809         0.563330           -1.029           0.303\n",
      "L2.gdp_real              3.465274         1.625920            2.131           0.033\n",
      "L2.nat_defence           0.454149         0.400075            1.135           0.256\n",
      "L2.nat_security         -1.998809         0.985523           -2.028           0.043\n",
      "L2.house_service        -0.114318         0.117623           -0.972           0.331\n",
      "L2.education             0.530339         0.415264            1.277           0.202\n",
      "L2.health                0.652283         0.232538            2.805           0.005\n",
      "L2.taxes_income          0.030660         0.545800            0.056           0.955\n",
      "===================================================================================\n",
      "\n",
      "Results for equation nat_security\n",
      "===================================================================================\n",
      "                      coefficient       std. error           t-stat            prob\n",
      "-----------------------------------------------------------------------------------\n",
      "const                   -1.776279        13.040415           -0.136           0.892\n",
      "price                   -0.031849         0.143100           -0.223           0.824\n",
      "rate                     0.014922         0.018095            0.825           0.410\n",
      "oil_income               0.301386         0.152364            1.978           0.048\n",
      "L1.gdp_real              1.278177         1.147660            1.114           0.265\n",
      "L1.nat_defence          -0.101468         0.174042           -0.583           0.560\n",
      "L1.nat_security         -0.771183         0.367205           -2.100           0.036\n",
      "L1.house_service        -0.002391         0.072963           -0.033           0.974\n",
      "L1.education            -0.083561         0.229182           -0.365           0.715\n",
      "L1.health                0.172634         0.188711            0.915           0.360\n",
      "L1.taxes_income          0.202805         0.319541            0.635           0.526\n",
      "L2.gdp_real             -0.317300         0.922280           -0.344           0.731\n",
      "L2.nat_defence           0.019650         0.226937            0.087           0.931\n",
      "L2.nat_security          0.046991         0.559024            0.084           0.933\n",
      "L2.house_service        -0.044663         0.066720           -0.669           0.503\n",
      "L2.education             0.107809         0.235552            0.458           0.647\n",
      "L2.health                0.220507         0.131904            1.672           0.095\n",
      "L2.taxes_income         -0.290311         0.309597           -0.938           0.348\n",
      "===================================================================================\n",
      "\n",
      "Results for equation house_service\n",
      "===================================================================================\n",
      "                      coefficient       std. error           t-stat            prob\n",
      "-----------------------------------------------------------------------------------\n",
      "const                  -91.443436        40.007050           -2.286           0.022\n",
      "price                    0.091137         0.439019            0.208           0.836\n",
      "rate                    -0.119733         0.055516           -2.157           0.031\n",
      "oil_income               0.368975         0.467442            0.789           0.430\n",
      "L1.gdp_real              1.027173         3.520939            0.292           0.770\n",
      "L1.nat_defence          -0.797227         0.533947           -1.493           0.135\n",
      "L1.nat_security          0.771407         1.126559            0.685           0.494\n",
      "L1.house_service        -0.647098         0.223846           -2.891           0.004\n",
      "L1.education             1.420649         0.703113            2.021           0.043\n",
      "L1.health               -0.280663         0.578952           -0.485           0.628\n",
      "L1.taxes_income         -0.188805         0.980328           -0.193           0.847\n",
      "L2.gdp_real              8.762538         2.829488            3.097           0.002\n",
      "L2.nat_defence          -0.817617         0.696226           -1.174           0.240\n",
      "L2.nat_security         -2.798184         1.715045           -1.632           0.103\n",
      "L2.house_service        -0.338219         0.204692           -1.652           0.098\n",
      "L2.education             2.507109         0.722658            3.469           0.001\n",
      "L2.health                0.956036         0.404672            2.362           0.018\n",
      "L2.taxes_income         -0.020334         0.949822           -0.021           0.983\n",
      "===================================================================================\n",
      "\n",
      "Results for equation education\n",
      "===================================================================================\n",
      "                      coefficient       std. error           t-stat            prob\n",
      "-----------------------------------------------------------------------------------\n",
      "const                  -29.081521        21.326685           -1.364           0.173\n",
      "price                   -0.063793         0.234029           -0.273           0.785\n",
      "rate                    -0.023851         0.029594           -0.806           0.420\n",
      "oil_income               0.356362         0.249181            1.430           0.153\n",
      "L1.gdp_real              1.400617         1.876918            0.746           0.456\n",
      "L1.nat_defence          -0.165730         0.284633           -0.582           0.560\n",
      "L1.nat_security         -0.730826         0.600538           -1.217           0.224\n",
      "L1.house_service        -0.058687         0.119326           -0.492           0.623\n",
      "L1.education             0.017745         0.374811            0.047           0.962\n",
      "L1.health                0.031252         0.308624            0.101           0.919\n",
      "L1.taxes_income          0.346527         0.522587            0.663           0.507\n",
      "L2.gdp_real              2.194674         1.508324            1.455           0.146\n",
      "L2.nat_defence          -0.162963         0.371140           -0.439           0.661\n",
      "L2.nat_security          0.100685         0.914244            0.110           0.912\n",
      "L2.house_service        -0.088078         0.109116           -0.807           0.420\n",
      "L2.education             0.095718         0.385229            0.248           0.804\n",
      "L2.health                0.591577         0.215720            2.742           0.006\n",
      "L2.taxes_income         -0.467734         0.506325           -0.924           0.356\n",
      "===================================================================================\n",
      "\n",
      "Results for equation health\n",
      "===================================================================================\n",
      "                      coefficient       std. error           t-stat            prob\n",
      "-----------------------------------------------------------------------------------\n",
      "const                   -1.763399        21.332970           -0.083           0.934\n",
      "price                   -0.560878         0.234098           -2.396           0.017\n",
      "rate                    -0.033551         0.029603           -1.133           0.257\n",
      "oil_income               0.600294         0.249254            2.408           0.016\n",
      "L1.gdp_real              0.339635         1.877471            0.181           0.856\n",
      "L1.nat_defence          -0.635165         0.284717           -2.231           0.026\n",
      "L1.nat_security         -0.925459         0.600715           -1.541           0.123\n",
      "L1.house_service        -0.057421         0.119361           -0.481           0.630\n",
      "L1.education             0.673793         0.374921            1.797           0.072\n",
      "L1.health                0.347489         0.308715            1.126           0.260\n",
      "L1.taxes_income          0.162916         0.522741            0.312           0.755\n",
      "L2.gdp_real              0.277991         1.508769            0.184           0.854\n",
      "L2.nat_defence          -0.255800         0.371249           -0.689           0.491\n",
      "L2.nat_security          0.329518         0.914514            0.360           0.719\n",
      "L2.house_service        -0.081620         0.109148           -0.748           0.455\n",
      "L2.education             0.160970         0.385343            0.418           0.676\n",
      "L2.health                0.376284         0.215783            1.744           0.081\n",
      "L2.taxes_income         -0.049862         0.506474           -0.098           0.922\n",
      "===================================================================================\n",
      "\n",
      "Results for equation taxes_income\n",
      "===================================================================================\n",
      "                      coefficient       std. error           t-stat            prob\n",
      "-----------------------------------------------------------------------------------\n",
      "const                  -14.258765        12.797736           -1.114           0.265\n",
      "price                    0.062287         0.140437            0.444           0.657\n",
      "rate                    -0.000844         0.017759           -0.047           0.962\n",
      "oil_income               0.253452         0.149529            1.695           0.090\n",
      "L1.gdp_real              1.403014         1.126303            1.246           0.213\n",
      "L1.nat_defence           0.080571         0.170803            0.472           0.637\n",
      "L1.nat_security         -0.828045         0.360372           -2.298           0.022\n",
      "L1.house_service         0.050189         0.071605            0.701           0.483\n",
      "L1.education            -0.042288         0.224917           -0.188           0.851\n",
      "L1.health                0.311706         0.185199            1.683           0.092\n",
      "L1.taxes_income          0.111530         0.313594            0.356           0.722\n",
      "L2.gdp_real              0.930170         0.905117            1.028           0.304\n",
      "L2.nat_defence           0.290729         0.222714            1.305           0.192\n",
      "L2.nat_security         -0.765965         0.548620           -1.396           0.163\n",
      "L2.house_service        -0.029482         0.065478           -0.450           0.653\n",
      "L2.education             0.110178         0.231169            0.477           0.634\n",
      "L2.health                0.156522         0.129449            1.209           0.227\n",
      "L2.taxes_income          0.068913         0.303836            0.227           0.821\n",
      "===================================================================================\n",
      "\n",
      "Correlation matrix of residuals\n",
      "                 gdp_real  nat_defence  nat_security  house_service  education    health  taxes_income\n",
      "gdp_real         1.000000     0.110102      0.631248       0.271134   0.490324  0.430176     -0.074387\n",
      "nat_defence      0.110102     1.000000      0.298036       0.086199   0.355111  0.334422      0.780564\n",
      "nat_security     0.631248     0.298036      1.000000       0.562471   0.792551  0.747418      0.381825\n",
      "house_service    0.271134     0.086199      0.562471       1.000000   0.550391  0.383166      0.262533\n",
      "education        0.490324     0.355111      0.792551       0.550391   1.000000  0.743495      0.459621\n",
      "health           0.430176     0.334422      0.747418       0.383166   0.743495  1.000000      0.436346\n",
      "taxes_income    -0.074387     0.780564      0.381825       0.262533   0.459621  0.436346      1.000000\n",
      "\n",
      "\n",
      "\n"
     ]
    }
   ],
   "source": [
    "model = VAR(endog=df_final[endog], exog=df_final[exog]).fit(2)\n",
    "print(model.summary())"
   ]
  },
  {
   "cell_type": "code",
   "execution_count": 40,
   "id": "acting-publicity",
   "metadata": {},
   "outputs": [
    {
     "name": "stdout",
     "output_type": "stream",
     "text": [
      "H_0: gdp_real does not Granger-cause nat_defence\n",
      "reject\n"
     ]
    }
   ],
   "source": [
    "feature_causing_gdp = model.test_causality(caused='nat_defence', causing='gdp_real', kind='f')\n",
    "print(feature_causing_gdp.h0)\n",
    "print(feature_causing_gdp.conclusion)"
   ]
  },
  {
   "cell_type": "code",
   "execution_count": 38,
   "id": "stunning-petite",
   "metadata": {},
   "outputs": [
    {
     "data": {
      "text/plain": [
       "3.0892030130201875"
      ]
     },
     "execution_count": 38,
     "metadata": {},
     "output_type": "execute_result"
    }
   ],
   "source": [
    "feature_causing_gdp.crit_value"
   ]
  },
  {
   "cell_type": "code",
   "execution_count": 55,
   "id": "reliable-craft",
   "metadata": {},
   "outputs": [
    {
     "data": {
      "text/plain": [
       "0.967463696556889"
      ]
     },
     "execution_count": 55,
     "metadata": {},
     "output_type": "execute_result"
    }
   ],
   "source": [
    "feature_causing_gdp.pvalue"
   ]
  },
  {
   "cell_type": "code",
   "execution_count": 52,
   "id": "another-quarter",
   "metadata": {},
   "outputs": [
    {
     "name": "stdout",
     "output_type": "stream",
     "text": [
      "H_0: gdp_real does not Granger-cause education\n",
      "fail to reject\n"
     ]
    }
   ],
   "source": [
    "feature_causing_gdp = model.test_causality(caused='education', causing='gdp_real', kind='f')\n",
    "print(feature_causing_gdp.h0)\n",
    "print(feature_causing_gdp.conclusion)"
   ]
  },
  {
   "cell_type": "code",
   "execution_count": 54,
   "id": "instrumental-category",
   "metadata": {},
   "outputs": [
    {
     "name": "stdout",
     "output_type": "stream",
     "text": [
      "H_0: gdp_real does not Granger-cause health\n",
      "fail to reject\n"
     ]
    }
   ],
   "source": [
    "feature_causing_gdp = model.test_causality(caused='health', causing='gdp_real', kind='f')\n",
    "print(feature_causing_gdp.h0)\n",
    "print(feature_causing_gdp.conclusion)"
   ]
  },
  {
   "cell_type": "code",
   "execution_count": 48,
   "id": "exciting-synthesis",
   "metadata": {},
   "outputs": [
    {
     "name": "stdout",
     "output_type": "stream",
     "text": [
      "H_0: gdp_real does not Granger-cause nat_security\n",
      "fail to reject\n"
     ]
    }
   ],
   "source": [
    "feature_causing_gdp = model.test_causality(caused='nat_security', causing='gdp_real', kind='f')\n",
    "print(feature_causing_gdp.h0)\n",
    "print(feature_causing_gdp.conclusion)"
   ]
  },
  {
   "cell_type": "code",
   "execution_count": 50,
   "id": "related-sullivan",
   "metadata": {},
   "outputs": [
    {
     "name": "stdout",
     "output_type": "stream",
     "text": [
      "H_0: gdp_real does not Granger-cause house_service\n",
      "reject\n"
     ]
    }
   ],
   "source": [
    "feature_causing_gdp = model.test_causality(caused='house_service', causing='gdp_real', kind='f')\n",
    "print(feature_causing_gdp.h0)\n",
    "print(feature_causing_gdp.conclusion)"
   ]
  },
  {
   "cell_type": "code",
   "execution_count": null,
   "id": "fifteen-physiology",
   "metadata": {},
   "outputs": [],
   "source": []
  },
  {
   "cell_type": "code",
   "execution_count": null,
   "id": "whole-metro",
   "metadata": {},
   "outputs": [],
   "source": []
  },
  {
   "cell_type": "code",
   "execution_count": null,
   "id": "educated-ferry",
   "metadata": {},
   "outputs": [],
   "source": []
  },
  {
   "cell_type": "code",
   "execution_count": null,
   "id": "framed-primary",
   "metadata": {},
   "outputs": [],
   "source": []
  }
 ],
 "metadata": {
  "kernelspec": {
   "display_name": "Python 3",
   "language": "python",
   "name": "python3"
  },
  "language_info": {
   "codemirror_mode": {
    "name": "ipython",
    "version": 3
   },
   "file_extension": ".py",
   "mimetype": "text/x-python",
   "name": "python",
   "nbconvert_exporter": "python",
   "pygments_lexer": "ipython3",
   "version": "3.8.8"
  }
 },
 "nbformat": 4,
 "nbformat_minor": 5
}
